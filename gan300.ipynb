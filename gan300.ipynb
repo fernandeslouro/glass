{
 "cells": [
  {
   "cell_type": "code",
   "execution_count": null,
   "metadata": {
    "colab": {
     "base_uri": "https://localhost:8080/",
     "height": 135
    },
    "executionInfo": {
     "elapsed": 1874,
     "status": "error",
     "timestamp": 1607445540546,
     "user": {
      "displayName": "João Louro",
      "photoUrl": "https://lh3.googleusercontent.com/a-/AOh14GhM2RkCUqPA0xRPBwn8sRPRg2h5H-7x8rxPCXxcTQ=s64",
      "userId": "04379741539671219878"
     },
     "user_tz": 0
    },
    "id": "EYahKdcNStJZ",
    "outputId": "edb5f921-c397-44c0-f096-86726d1bd5f4"
   },
   "outputs": [
    {
     "ename": "SyntaxError",
     "evalue": "ignored",
     "output_type": "error",
     "traceback": [
      "\u001b[0;36m  File \u001b[0;32m\"<ipython-input-2-9d527de4a5b4>\"\u001b[0;36m, line \u001b[0;32m1\u001b[0m\n\u001b[0;31m    usage: main.py [-h] --dataset DATASET --dataroot DATAROOT [--workers WORKERS]\u001b[0m\n\u001b[0m                                        ^\u001b[0m\n\u001b[0;31mSyntaxError\u001b[0m\u001b[0;31m:\u001b[0m invalid syntax\n"
     ]
    }
   ],
   "source": [
    "usage: main.py [-h] --dataset DATASET --dataroot DATAROOT [--workers WORKERS]\n",
    "               [--batchSize BATCHSIZE] [--imageSize IMAGESIZE] [--nz NZ]\n",
    "               [--ngf NGF] [--ndf NDF] [--niter NITER] [--lr LR]\n",
    "               [--beta1 BETA1] [--cuda] [--ngpu NGPU] [--netG NETG]\n",
    "               [--netD NETD]\n",
    "\n",
    "optional arguments:\n",
    "  -h, --help            show this help message and exit\n",
    "  --dataset DATASET     cifar10 | lsun | mnist |imagenet | folder | lfw | fake\n",
    "  --dataroot DATAROOT   path to dataset\n",
    "  --workers WORKERS     number of data loading workers\n",
    "  --batchSize BATCHSIZE input batch size\n",
    "  --imageSize IMAGESIZE the height / width of the input image to network\n",
    "  --nz NZ               size of the latent z vector\n",
    "  --ngf NGF\n",
    "  --ndf NDF\n",
    "  --niter NITER         number of epochs to train for\n",
    "  --lr LR               learning rate, default=0.0002\n",
    "  --beta1 BETA1         beta1 for adam. default=0.5\n",
    "  --cuda                enables cuda\n",
    "  --ngpu NGPU           number of GPUs to use\n",
    "  --netG NETG           path to netG (to continue training)\n",
    "  --netD NETD           path to netD (to continue training)\n",
    "  --outf OUTF           folder to output images and model checkpoints\n",
    "  --manualSeed SEED     manual seed\n",
    "  --classes CLASSES     comma separated list of classes for the lsun data set"
   ]
  },
  {
   "cell_type": "code",
   "execution_count": null,
   "metadata": {
    "id": "vOAE06MxFOZy"
   },
   "outputs": [],
   "source": [
    "a = []\r\n",
    "while(1):\r\n",
    "    a.append('1')"
   ]
  },
  {
   "cell_type": "code",
   "execution_count": 1,
   "metadata": {
    "colab": {
     "base_uri": "https://localhost:8080/"
    },
    "executionInfo": {
     "elapsed": 34334,
     "status": "ok",
     "timestamp": 1608144803141,
     "user": {
      "displayName": "João Louro",
      "photoUrl": "https://lh3.googleusercontent.com/a-/AOh14GhM2RkCUqPA0xRPBwn8sRPRg2h5H-7x8rxPCXxcTQ=s64",
      "userId": "04379741539671219878"
     },
     "user_tz": 0
    },
    "id": "F11fSZzLS2i0",
    "outputId": "f23cdd63-772e-489a-d9d0-4c55cf4db8f6"
   },
   "outputs": [
    {
     "name": "stdout",
     "output_type": "stream",
     "text": [
      "Mounted at /content/drive\n"
     ]
    }
   ],
   "source": [
    "# Load the Drive helper and mount\n",
    "from google.colab import drive\n",
    "drive.mount('/content/drive')"
   ]
  },
  {
   "cell_type": "code",
   "execution_count": 4,
   "metadata": {
    "colab": {
     "background_save": true,
     "base_uri": "https://localhost:8080/"
    },
    "id": "qH15gThpS6IZ"
   },
   "outputs": [
    {
     "name": "stdout",
     "output_type": "stream",
     "text": [
      "/bin/bash: -c: line 0: unexpected EOF while looking for matching `''\n",
      "/bin/bash: -c: line 1: syntax error: unexpected end of file\n"
     ]
    }
   ],
   "source": [
    "!python '/content/drive/MyDrive/Colab Notebooks/project-glass/simpler-gan.py'  --dataroot '/content/drive/MyDrive/Colab Notebooks/project-glass/data/' \\\n",
    " --imageSize 120 --niter 1000 --cuda --outf '/content/drive/MyDrive/Colab Notebooks/project-glass/run300/\n",
    "  --saveModelsEvery 200 --saveImagesEvery 100"
   ]
  },
  {
   "cell_type": "code",
   "execution_count": null,
   "metadata": {
    "id": "jUtQ7DgsGqlX"
   },
   "outputs": [],
   "source": []
  }
 ],
 "metadata": {
  "accelerator": "GPU",
  "colab": {
   "authorship_tag": "ABX9TyO4A347mF63mB+aQ0uJm9LL",
   "name": "gan300.ipynb",
   "version": ""
  },
  "kernelspec": {
   "display_name": "Python 3",
   "language": "python",
   "name": "python3"
  },
  "language_info": {
   "codemirror_mode": {
    "name": "ipython",
    "version": 3
   },
   "file_extension": ".py",
   "mimetype": "text/x-python",
   "name": "python",
   "nbconvert_exporter": "python",
   "pygments_lexer": "ipython3",
   "version": "3.9.2"
  }
 },
 "nbformat": 4,
 "nbformat_minor": 4
}
