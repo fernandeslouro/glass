{
 "cells": [
  {
   "cell_type": "code",
   "execution_count": null,
   "metadata": {
    "colab": {
     "base_uri": "https://localhost:8080/",
     "height": 135
    },
    "executionInfo": {
     "elapsed": 1874,
     "status": "error",
     "timestamp": 1607445540546,
     "user": {
      "displayName": "João Louro",
      "photoUrl": "https://lh3.googleusercontent.com/a-/AOh14GhM2RkCUqPA0xRPBwn8sRPRg2h5H-7x8rxPCXxcTQ=s64",
      "userId": "04379741539671219878"
     },
     "user_tz": 0
    },
    "id": "EYahKdcNStJZ",
    "outputId": "edb5f921-c397-44c0-f096-86726d1bd5f4"
   },
   "outputs": [
    {
     "ename": "SyntaxError",
     "evalue": "ignored",
     "output_type": "error",
     "traceback": [
      "\u001b[0;36m  File \u001b[0;32m\"<ipython-input-2-9d527de4a5b4>\"\u001b[0;36m, line \u001b[0;32m1\u001b[0m\n\u001b[0;31m    usage: main.py [-h] --dataset DATASET --dataroot DATAROOT [--workers WORKERS]\u001b[0m\n\u001b[0m                                        ^\u001b[0m\n\u001b[0;31mSyntaxError\u001b[0m\u001b[0;31m:\u001b[0m invalid syntax\n"
     ]
    }
   ],
   "source": [
    "usage: main.py [-h] --dataset DATASET --dataroot DATAROOT [--workers WORKERS]\n",
    "               [--batchSize BATCHSIZE] [--imageSize IMAGESIZE] [--nz NZ]\n",
    "               [--ngf NGF] [--ndf NDF] [--niter NITER] [--lr LR]\n",
    "               [--beta1 BETA1] [--cuda] [--ngpu NGPU] [--netG NETG]\n",
    "               [--netD NETD]\n",
    "\n",
    "optional arguments:\n",
    "  -h, --help            show this help message and exit\n",
    "  --dataset DATASET     cifar10 | lsun | mnist |imagenet | folder | lfw | fake\n",
    "  --dataroot DATAROOT   path to dataset\n",
    "  --workers WORKERS     number of data loading workers\n",
    "  --batchSize BATCHSIZE input batch size\n",
    "  --imageSize IMAGESIZE the height / width of the input image to network\n",
    "  --nz NZ               size of the latent z vector\n",
    "  --ngf NGF\n",
    "  --ndf NDF\n",
    "  --niter NITER         number of epochs to train for\n",
    "  --lr LR               learning rate, default=0.0002\n",
    "  --beta1 BETA1         beta1 for adam. default=0.5\n",
    "  --cuda                enables cuda\n",
    "  --ngpu NGPU           number of GPUs to use\n",
    "  --netG NETG           path to netG (to continue training)\n",
    "  --netD NETD           path to netD (to continue training)\n",
    "  --outf OUTF           folder to output images and model checkpoints\n",
    "  --manualSeed SEED     manual seed\n",
    "  --classes CLASSES     comma separated list of classes for the lsun data set"
   ]
  },
  {
   "cell_type": "code",
   "execution_count": 1,
   "metadata": {
    "colab": {
     "base_uri": "https://localhost:8080/"
    },
    "executionInfo": {
     "elapsed": 26447,
     "status": "ok",
     "timestamp": 1607704031880,
     "user": {
      "displayName": "João Louro",
      "photoUrl": "https://lh3.googleusercontent.com/a-/AOh14GhM2RkCUqPA0xRPBwn8sRPRg2h5H-7x8rxPCXxcTQ=s64",
      "userId": "04379741539671219878"
     },
     "user_tz": 0
    },
    "id": "F11fSZzLS2i0",
    "outputId": "cef62c5f-7fb7-4015-ebe3-2d4f5beb1a84"
   },
   "outputs": [
    {
     "name": "stdout",
     "output_type": "stream",
     "text": [
      "Mounted at /content/drive\n"
     ]
    }
   ],
   "source": [
    "# Load the Drive helper and mount\n",
    "from google.colab import drive\n",
    "drive.mount('/content/drive')"
   ]
  },
  {
   "cell_type": "code",
   "execution_count": 6,
   "metadata": {
    "colab": {
     "background_save": true,
     "base_uri": "https://localhost:8080/"
    },
    "id": "qH15gThpS6IZ"
   },
   "outputs": [
    {
     "ename": "IndentationError",
     "evalue": "unexpected indent (<ipython-input-6-3e7c07abf6b9>, line 3)",
     "output_type": "error",
     "traceback": [
      "\u001b[0;36m  File \u001b[0;32m\"<ipython-input-6-3e7c07abf6b9>\"\u001b[0;36m, line \u001b[0;32m3\u001b[0m\n\u001b[0;31m    --netG '/content/drive/MyDrive/Colab Notebooks/project-glass/clean_run/netG_epoch_199.pth'\\\u001b[0m\n\u001b[0m    ^\u001b[0m\n\u001b[0;31mIndentationError\u001b[0m\u001b[0;31m:\u001b[0m unexpected indent\n"
     ]
    }
   ],
   "source": [
    "!python '/content/drive/MyDrive/Colab Notebooks/project-glass/main.py' --dataset folder\\\n",
    " --dataroot '/content/drive/MyDrive/Colab Notebooks/project-glass/data/' --niter 600 \\\n",
    " --cuda --outf '/content/drive/MyDrive/Colab Notebooks/project-glass/clean_run/\n",
    "\r\n",
    " --netG '/content/drive/MyDrive/Colab Notebooks/project-glass/clean_run/netG_epoch_199.pth'\\\r\n",
    " --netD '/content/drive/MyDrive/Colab Notebooks/project-glass/clean_run/netD_epoch_199.pth'"
   ]
  },
  {
   "cell_type": "code",
   "execution_count": null,
   "metadata": {
    "colab": {
     "base_uri": "https://localhost:8080/",
     "height": 191
    },
    "executionInfo": {
     "elapsed": 39858,
     "status": "error",
     "timestamp": 1607445578548,
     "user": {
      "displayName": "João Louro",
      "photoUrl": "https://lh3.googleusercontent.com/a-/AOh14GhM2RkCUqPA0xRPBwn8sRPRg2h5H-7x8rxPCXxcTQ=s64",
      "userId": "04379741539671219878"
     },
     "user_tz": 0
    },
    "id": "ZhF37iDHTzLl",
    "outputId": "ed5539ef-f5cb-4fcd-ee87-2cac9c5356ae"
   },
   "outputs": [
    {
     "ename": "FileNotFoundError",
     "evalue": "ignored",
     "output_type": "error",
     "traceback": [
      "\u001b[0;31m---------------------------------------------------------------------------\u001b[0m",
      "\u001b[0;31mFileNotFoundError\u001b[0m                         Traceback (most recent call last)",
      "\u001b[0;32m<ipython-input-5-dc2d0557124f>\u001b[0m in \u001b[0;36m<module>\u001b[0;34m()\u001b[0m\n\u001b[1;32m      1\u001b[0m \u001b[0;32mimport\u001b[0m \u001b[0mos\u001b[0m\u001b[0;34m\u001b[0m\u001b[0;34m\u001b[0m\u001b[0m\n\u001b[0;32m----> 2\u001b[0;31m \u001b[0mset\u001b[0m\u001b[0;34m(\u001b[0m\u001b[0;34m[\u001b[0m\u001b[0mf\u001b[0m\u001b[0;34m[\u001b[0m\u001b[0;34m-\u001b[0m\u001b[0;36m4\u001b[0m\u001b[0;34m:\u001b[0m\u001b[0;34m]\u001b[0m \u001b[0;32mfor\u001b[0m \u001b[0mf\u001b[0m \u001b[0;32min\u001b[0m \u001b[0mos\u001b[0m\u001b[0;34m.\u001b[0m\u001b[0mlistdir\u001b[0m\u001b[0;34m(\u001b[0m\u001b[0;34m'/content/drive/MyDrive/Colab Notebooks/project-glass/script_img'\u001b[0m\u001b[0;34m)\u001b[0m\u001b[0;34m]\u001b[0m\u001b[0;34m)\u001b[0m\u001b[0;34m\u001b[0m\u001b[0;34m\u001b[0m\u001b[0m\n\u001b[0m",
      "\u001b[0;31mFileNotFoundError\u001b[0m: [Errno 2] No such file or directory: '/content/drive/MyDrive/Colab Notebooks/project-glass/script_img'"
     ]
    }
   ],
   "source": [
    "import os\n",
    "set([f[-4:] for f in os.listdir('/content/drive/MyDrive/Colab Notebooks/project-glass/script_img')])"
   ]
  },
  {
   "cell_type": "code",
   "execution_count": null,
   "metadata": {
    "id": "QAuYw1yYT36j"
   },
   "outputs": [],
   "source": []
  }
 ],
 "metadata": {
  "accelerator": "GPU",
  "colab": {
   "authorship_tag": "ABX9TyPQCwENDoNtshvL4INUmJEz",
   "name": "gan-train.ipynb",
   "version": ""
  },
  "kernelspec": {
   "display_name": "Python 3",
   "language": "python",
   "name": "python3"
  },
  "language_info": {
   "codemirror_mode": {
    "name": "ipython",
    "version": 3
   },
   "file_extension": ".py",
   "mimetype": "text/x-python",
   "name": "python",
   "nbconvert_exporter": "python",
   "pygments_lexer": "ipython3",
   "version": "3.9.2"
  }
 },
 "nbformat": 4,
 "nbformat_minor": 4
}
